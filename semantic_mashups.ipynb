{
  "nbformat": 4,
  "nbformat_minor": 0,
  "metadata": {
    "colab": {
      "provenance": [],
      "include_colab_link": true
    },
    "kernelspec": {
      "name": "python3",
      "display_name": "Python 3"
    },
    "language_info": {
      "name": "python"
    }
  },
  "cells": [
    {
      "cell_type": "markdown",
      "metadata": {
        "id": "view-in-github",
        "colab_type": "text"
      },
      "source": [
        "<a href=\"https://colab.research.google.com/github/Tymiec/Semantyczny_Internet_2022-2023/blob/master/semantic_mashups.ipynb\" target=\"_parent\"><img src=\"https://colab.research.google.com/assets/colab-badge.svg\" alt=\"Open In Colab\"/></a>"
      ]
    },
    {
      "cell_type": "code",
      "execution_count": null,
      "metadata": {
        "id": "wIGYPMUvkuq-",
        "colab": {
          "base_uri": "https://localhost:8080/"
        },
        "outputId": "35751e2c-dfb6-4c23-8336-7965e7316e89"
      },
      "outputs": [
        {
          "output_type": "stream",
          "name": "stdout",
          "text": [
            "Looking in indexes: https://pypi.org/simple, https://us-python.pkg.dev/colab-wheels/public/simple/\n",
            "Collecting sparqlwrapper\n",
            "  Downloading SPARQLWrapper-2.0.0-py3-none-any.whl (28 kB)\n",
            "Collecting rdflib\n",
            "  Downloading rdflib-6.2.0-py3-none-any.whl (500 kB)\n",
            "\u001b[K     |████████████████████████████████| 500 kB 29.8 MB/s \n",
            "\u001b[?25hCollecting owlready2\n",
            "  Downloading Owlready2-0.39.tar.gz (25.5 MB)\n",
            "\u001b[K     |████████████████████████████████| 25.5 MB 3.2 MB/s \n",
            "\u001b[?25hRequirement already satisfied: setuptools in /usr/local/lib/python3.8/dist-packages (from rdflib) (57.4.0)\n",
            "Requirement already satisfied: pyparsing in /usr/local/lib/python3.8/dist-packages (from rdflib) (3.0.9)\n",
            "Collecting isodate\n",
            "  Downloading isodate-0.6.1-py2.py3-none-any.whl (41 kB)\n",
            "\u001b[K     |████████████████████████████████| 41 kB 591 kB/s \n",
            "\u001b[?25hRequirement already satisfied: six in /usr/local/lib/python3.8/dist-packages (from isodate->rdflib) (1.15.0)\n",
            "Building wheels for collected packages: owlready2\n",
            "  Building wheel for owlready2 (setup.py) ... \u001b[?25l\u001b[?25hdone\n",
            "  Created wheel for owlready2: filename=Owlready2-0.39-cp38-cp38-linux_x86_64.whl size=22260904 sha256=fefa5ddb334687bf34b4befbdd12b047f874dbe6288c8fc037f361e50a7ba822\n",
            "  Stored in directory: /root/.cache/pip/wheels/bd/16/5f/a0bfc34a8f7682cbd6b4d9cb1436c0a0a04ac3579394d7e28a\n",
            "Successfully built owlready2\n",
            "Installing collected packages: isodate, rdflib, sparqlwrapper, owlready2\n",
            "Successfully installed isodate-0.6.1 owlready2-0.39 rdflib-6.2.0 sparqlwrapper-2.0.0\n"
          ]
        }
      ],
      "source": [
        "!pip install sparqlwrapper rdflib owlready2"
      ]
    },
    {
      "cell_type": "code",
      "source": [
        "import SPARQLWrapper\n",
        "import rdflib\n",
        "import requests\n",
        "import json\n",
        "import pandas as pd\n",
        "from google.colab import drive\n",
        "\n",
        "PATH = '/content/drive/MyDrive/uj/data/f1'"
      ],
      "metadata": {
        "id": "CT0xbAZXn5ED"
      },
      "execution_count": null,
      "outputs": []
    },
    {
      "cell_type": "code",
      "source": [
        "drive.mount('/content/drive/', force_remount=True)"
      ],
      "metadata": {
        "colab": {
          "base_uri": "https://localhost:8080/"
        },
        "id": "bWag_3cDNRha",
        "outputId": "ecc69223-56a7-45a1-f1f9-267e286e5365"
      },
      "execution_count": null,
      "outputs": [
        {
          "output_type": "stream",
          "name": "stdout",
          "text": [
            "Mounted at /content/drive/\n"
          ]
        }
      ]
    },
    {
      "cell_type": "code",
      "source": [
        "drivers_df = pd.read_csv(PATH + '/drivers.csv')\n",
        "\n",
        "drivers_df.head()"
      ],
      "metadata": {
        "colab": {
          "base_uri": "https://localhost:8080/",
          "height": 206
        },
        "id": "V21odkIrNraI",
        "outputId": "d754b10f-1e40-4261-e8f8-887816372a06"
      },
      "execution_count": null,
      "outputs": [
        {
          "output_type": "execute_result",
          "data": {
            "text/plain": [
              "   driverId   driverRef number code  forename     surname         dob  \\\n",
              "0         1    hamilton     44  HAM     Lewis    Hamilton  1985-01-07   \n",
              "1         2    heidfeld     \\N  HEI      Nick    Heidfeld  1977-05-10   \n",
              "2         3     rosberg      6  ROS      Nico     Rosberg  1985-06-27   \n",
              "3         4      alonso     14  ALO  Fernando      Alonso  1981-07-29   \n",
              "4         5  kovalainen     \\N  KOV    Heikki  Kovalainen  1981-10-19   \n",
              "\n",
              "  nationality                                             url  \n",
              "0     British     http://en.wikipedia.org/wiki/Lewis_Hamilton  \n",
              "1      German      http://en.wikipedia.org/wiki/Nick_Heidfeld  \n",
              "2      German       http://en.wikipedia.org/wiki/Nico_Rosberg  \n",
              "3     Spanish    http://en.wikipedia.org/wiki/Fernando_Alonso  \n",
              "4     Finnish  http://en.wikipedia.org/wiki/Heikki_Kovalainen  "
            ],
            "text/html": [
              "\n",
              "  <div id=\"df-721d4cb8-6ad3-4e5c-89a8-f35112b21277\">\n",
              "    <div class=\"colab-df-container\">\n",
              "      <div>\n",
              "<style scoped>\n",
              "    .dataframe tbody tr th:only-of-type {\n",
              "        vertical-align: middle;\n",
              "    }\n",
              "\n",
              "    .dataframe tbody tr th {\n",
              "        vertical-align: top;\n",
              "    }\n",
              "\n",
              "    .dataframe thead th {\n",
              "        text-align: right;\n",
              "    }\n",
              "</style>\n",
              "<table border=\"1\" class=\"dataframe\">\n",
              "  <thead>\n",
              "    <tr style=\"text-align: right;\">\n",
              "      <th></th>\n",
              "      <th>driverId</th>\n",
              "      <th>driverRef</th>\n",
              "      <th>number</th>\n",
              "      <th>code</th>\n",
              "      <th>forename</th>\n",
              "      <th>surname</th>\n",
              "      <th>dob</th>\n",
              "      <th>nationality</th>\n",
              "      <th>url</th>\n",
              "    </tr>\n",
              "  </thead>\n",
              "  <tbody>\n",
              "    <tr>\n",
              "      <th>0</th>\n",
              "      <td>1</td>\n",
              "      <td>hamilton</td>\n",
              "      <td>44</td>\n",
              "      <td>HAM</td>\n",
              "      <td>Lewis</td>\n",
              "      <td>Hamilton</td>\n",
              "      <td>1985-01-07</td>\n",
              "      <td>British</td>\n",
              "      <td>http://en.wikipedia.org/wiki/Lewis_Hamilton</td>\n",
              "    </tr>\n",
              "    <tr>\n",
              "      <th>1</th>\n",
              "      <td>2</td>\n",
              "      <td>heidfeld</td>\n",
              "      <td>\\N</td>\n",
              "      <td>HEI</td>\n",
              "      <td>Nick</td>\n",
              "      <td>Heidfeld</td>\n",
              "      <td>1977-05-10</td>\n",
              "      <td>German</td>\n",
              "      <td>http://en.wikipedia.org/wiki/Nick_Heidfeld</td>\n",
              "    </tr>\n",
              "    <tr>\n",
              "      <th>2</th>\n",
              "      <td>3</td>\n",
              "      <td>rosberg</td>\n",
              "      <td>6</td>\n",
              "      <td>ROS</td>\n",
              "      <td>Nico</td>\n",
              "      <td>Rosberg</td>\n",
              "      <td>1985-06-27</td>\n",
              "      <td>German</td>\n",
              "      <td>http://en.wikipedia.org/wiki/Nico_Rosberg</td>\n",
              "    </tr>\n",
              "    <tr>\n",
              "      <th>3</th>\n",
              "      <td>4</td>\n",
              "      <td>alonso</td>\n",
              "      <td>14</td>\n",
              "      <td>ALO</td>\n",
              "      <td>Fernando</td>\n",
              "      <td>Alonso</td>\n",
              "      <td>1981-07-29</td>\n",
              "      <td>Spanish</td>\n",
              "      <td>http://en.wikipedia.org/wiki/Fernando_Alonso</td>\n",
              "    </tr>\n",
              "    <tr>\n",
              "      <th>4</th>\n",
              "      <td>5</td>\n",
              "      <td>kovalainen</td>\n",
              "      <td>\\N</td>\n",
              "      <td>KOV</td>\n",
              "      <td>Heikki</td>\n",
              "      <td>Kovalainen</td>\n",
              "      <td>1981-10-19</td>\n",
              "      <td>Finnish</td>\n",
              "      <td>http://en.wikipedia.org/wiki/Heikki_Kovalainen</td>\n",
              "    </tr>\n",
              "  </tbody>\n",
              "</table>\n",
              "</div>\n",
              "      <button class=\"colab-df-convert\" onclick=\"convertToInteractive('df-721d4cb8-6ad3-4e5c-89a8-f35112b21277')\"\n",
              "              title=\"Convert this dataframe to an interactive table.\"\n",
              "              style=\"display:none;\">\n",
              "        \n",
              "  <svg xmlns=\"http://www.w3.org/2000/svg\" height=\"24px\"viewBox=\"0 0 24 24\"\n",
              "       width=\"24px\">\n",
              "    <path d=\"M0 0h24v24H0V0z\" fill=\"none\"/>\n",
              "    <path d=\"M18.56 5.44l.94 2.06.94-2.06 2.06-.94-2.06-.94-.94-2.06-.94 2.06-2.06.94zm-11 1L8.5 8.5l.94-2.06 2.06-.94-2.06-.94L8.5 2.5l-.94 2.06-2.06.94zm10 10l.94 2.06.94-2.06 2.06-.94-2.06-.94-.94-2.06-.94 2.06-2.06.94z\"/><path d=\"M17.41 7.96l-1.37-1.37c-.4-.4-.92-.59-1.43-.59-.52 0-1.04.2-1.43.59L10.3 9.45l-7.72 7.72c-.78.78-.78 2.05 0 2.83L4 21.41c.39.39.9.59 1.41.59.51 0 1.02-.2 1.41-.59l7.78-7.78 2.81-2.81c.8-.78.8-2.07 0-2.86zM5.41 20L4 18.59l7.72-7.72 1.47 1.35L5.41 20z\"/>\n",
              "  </svg>\n",
              "      </button>\n",
              "      \n",
              "  <style>\n",
              "    .colab-df-container {\n",
              "      display:flex;\n",
              "      flex-wrap:wrap;\n",
              "      gap: 12px;\n",
              "    }\n",
              "\n",
              "    .colab-df-convert {\n",
              "      background-color: #E8F0FE;\n",
              "      border: none;\n",
              "      border-radius: 50%;\n",
              "      cursor: pointer;\n",
              "      display: none;\n",
              "      fill: #1967D2;\n",
              "      height: 32px;\n",
              "      padding: 0 0 0 0;\n",
              "      width: 32px;\n",
              "    }\n",
              "\n",
              "    .colab-df-convert:hover {\n",
              "      background-color: #E2EBFA;\n",
              "      box-shadow: 0px 1px 2px rgba(60, 64, 67, 0.3), 0px 1px 3px 1px rgba(60, 64, 67, 0.15);\n",
              "      fill: #174EA6;\n",
              "    }\n",
              "\n",
              "    [theme=dark] .colab-df-convert {\n",
              "      background-color: #3B4455;\n",
              "      fill: #D2E3FC;\n",
              "    }\n",
              "\n",
              "    [theme=dark] .colab-df-convert:hover {\n",
              "      background-color: #434B5C;\n",
              "      box-shadow: 0px 1px 3px 1px rgba(0, 0, 0, 0.15);\n",
              "      filter: drop-shadow(0px 1px 2px rgba(0, 0, 0, 0.3));\n",
              "      fill: #FFFFFF;\n",
              "    }\n",
              "  </style>\n",
              "\n",
              "      <script>\n",
              "        const buttonEl =\n",
              "          document.querySelector('#df-721d4cb8-6ad3-4e5c-89a8-f35112b21277 button.colab-df-convert');\n",
              "        buttonEl.style.display =\n",
              "          google.colab.kernel.accessAllowed ? 'block' : 'none';\n",
              "\n",
              "        async function convertToInteractive(key) {\n",
              "          const element = document.querySelector('#df-721d4cb8-6ad3-4e5c-89a8-f35112b21277');\n",
              "          const dataTable =\n",
              "            await google.colab.kernel.invokeFunction('convertToInteractive',\n",
              "                                                     [key], {});\n",
              "          if (!dataTable) return;\n",
              "\n",
              "          const docLinkHtml = 'Like what you see? Visit the ' +\n",
              "            '<a target=\"_blank\" href=https://colab.research.google.com/notebooks/data_table.ipynb>data table notebook</a>'\n",
              "            + ' to learn more about interactive tables.';\n",
              "          element.innerHTML = '';\n",
              "          dataTable['output_type'] = 'display_data';\n",
              "          await google.colab.output.renderOutput(dataTable, element);\n",
              "          const docLink = document.createElement('div');\n",
              "          docLink.innerHTML = docLinkHtml;\n",
              "          element.appendChild(docLink);\n",
              "        }\n",
              "      </script>\n",
              "    </div>\n",
              "  </div>\n",
              "  "
            ]
          },
          "metadata": {},
          "execution_count": 12
        }
      ]
    },
    {
      "cell_type": "code",
      "source": [
        "def get_wikipedia_pageids(link):\n",
        "  page_title = link.split(\"/\")[-1]\n",
        "  api_endpoint = f\"https://en.wikipedia.org/w/api.php?action=query&format=json&titles={page_title}\"\n",
        "  response = requests.get(api_endpoint)\n",
        "  data = json.loads(response.text)\n",
        "  ids = data[\"query\"][\"pages\"].keys()\n",
        "  return list(ids)"
      ],
      "metadata": {
        "id": "Bp0IUI42O2oy"
      },
      "execution_count": null,
      "outputs": []
    },
    {
      "cell_type": "code",
      "source": [
        "hamilton_id = get_wikipedia_pageids('https://en.wikipedia.org/wiki/Lewis_Hamilton')[0]\n",
        "print(hamilton_id)"
      ],
      "metadata": {
        "colab": {
          "base_uri": "https://localhost:8080/"
        },
        "id": "kksDippNRlDx",
        "outputId": "dd060697-a33e-4fd8-8af2-b20a13e9713f"
      },
      "execution_count": null,
      "outputs": [
        {
          "output_type": "stream",
          "name": "stdout",
          "text": [
            "675561\n"
          ]
        }
      ]
    },
    {
      "cell_type": "code",
      "source": [
        "wikidata = SPARQLWrapper.SPARQLWrapper(\"https://query.wikidata.org/sparql\")\n",
        "dbpedia = SPARQLWrapper.SPARQLWrapper('https://dbpedia.org/sparql')\n",
        "\n",
        "dbpedia.setQuery(f\"\"\"\n",
        "PREFIX dbo: http://dbpedia.org/ontology/\n",
        "PREFIX dbr: http://dbpedia.org/resource/\n",
        "\n",
        "SELECT ?driver ?driverName WHERE {{\n",
        "  ?driver a dbo:FormulaOneRacer ;\n",
        "          dbo:wikiPageID '675561' ;\n",
        "          rdfs:label ?driverName .\n",
        "  FILTER (lang(?driverName) = \"en\")\n",
        "}}\n",
        "\"\"\")\n",
        "\n",
        "dbpedia.setReturnFormat(SPARQLWrapper.JSON)\n",
        "wd_results = dbpedia.query().convert()\n",
        "\n",
        "print(wd_results)\n",
        "\n",
        "# dbpedia.setReturnFormat(SPARQLWrapper.RDFXML)\n",
        "# wd_results = dbpedia.query()\n",
        "# wd_xml_response = wd_results.response.read()\n",
        "\n",
        "# graph = rdflib.Graph()\n",
        "# graph.parse(data=wd_xml_response, format=\"xml\")"
      ],
      "metadata": {
        "id": "TuDDzGsarxj2",
        "colab": {
          "base_uri": "https://localhost:8080/",
          "height": 533
        },
        "outputId": "f5589e3c-9e4e-4020-fd5a-35299438c039"
      },
      "execution_count": null,
      "outputs": [
        {
          "output_type": "error",
          "ename": "QueryBadFormed",
          "evalue": "ignored",
          "traceback": [
            "\u001b[0;31m---------------------------------------------------------------------------\u001b[0m",
            "\u001b[0;31mHTTPError\u001b[0m                                 Traceback (most recent call last)",
            "\u001b[0;32m/usr/local/lib/python3.8/dist-packages/SPARQLWrapper/Wrapper.py\u001b[0m in \u001b[0;36m_query\u001b[0;34m(self)\u001b[0m\n\u001b[1;32m    925\u001b[0m             \u001b[0;32melse\u001b[0m\u001b[0;34m:\u001b[0m\u001b[0;34m\u001b[0m\u001b[0;34m\u001b[0m\u001b[0m\n\u001b[0;32m--> 926\u001b[0;31m                 \u001b[0mresponse\u001b[0m \u001b[0;34m=\u001b[0m \u001b[0murlopener\u001b[0m\u001b[0;34m(\u001b[0m\u001b[0mrequest\u001b[0m\u001b[0;34m)\u001b[0m\u001b[0;34m\u001b[0m\u001b[0;34m\u001b[0m\u001b[0m\n\u001b[0m\u001b[1;32m    927\u001b[0m             \u001b[0;32mreturn\u001b[0m \u001b[0mresponse\u001b[0m\u001b[0;34m,\u001b[0m \u001b[0mself\u001b[0m\u001b[0;34m.\u001b[0m\u001b[0mreturnFormat\u001b[0m\u001b[0;34m\u001b[0m\u001b[0;34m\u001b[0m\u001b[0m\n",
            "\u001b[0;32m/usr/lib/python3.8/urllib/request.py\u001b[0m in \u001b[0;36murlopen\u001b[0;34m(url, data, timeout, cafile, capath, cadefault, context)\u001b[0m\n\u001b[1;32m    221\u001b[0m         \u001b[0mopener\u001b[0m \u001b[0;34m=\u001b[0m \u001b[0m_opener\u001b[0m\u001b[0;34m\u001b[0m\u001b[0;34m\u001b[0m\u001b[0m\n\u001b[0;32m--> 222\u001b[0;31m     \u001b[0;32mreturn\u001b[0m \u001b[0mopener\u001b[0m\u001b[0;34m.\u001b[0m\u001b[0mopen\u001b[0m\u001b[0;34m(\u001b[0m\u001b[0murl\u001b[0m\u001b[0;34m,\u001b[0m \u001b[0mdata\u001b[0m\u001b[0;34m,\u001b[0m \u001b[0mtimeout\u001b[0m\u001b[0;34m)\u001b[0m\u001b[0;34m\u001b[0m\u001b[0;34m\u001b[0m\u001b[0m\n\u001b[0m\u001b[1;32m    223\u001b[0m \u001b[0;34m\u001b[0m\u001b[0m\n",
            "\u001b[0;32m/usr/lib/python3.8/urllib/request.py\u001b[0m in \u001b[0;36mopen\u001b[0;34m(self, fullurl, data, timeout)\u001b[0m\n\u001b[1;32m    530\u001b[0m             \u001b[0mmeth\u001b[0m \u001b[0;34m=\u001b[0m \u001b[0mgetattr\u001b[0m\u001b[0;34m(\u001b[0m\u001b[0mprocessor\u001b[0m\u001b[0;34m,\u001b[0m \u001b[0mmeth_name\u001b[0m\u001b[0;34m)\u001b[0m\u001b[0;34m\u001b[0m\u001b[0;34m\u001b[0m\u001b[0m\n\u001b[0;32m--> 531\u001b[0;31m             \u001b[0mresponse\u001b[0m \u001b[0;34m=\u001b[0m \u001b[0mmeth\u001b[0m\u001b[0;34m(\u001b[0m\u001b[0mreq\u001b[0m\u001b[0;34m,\u001b[0m \u001b[0mresponse\u001b[0m\u001b[0;34m)\u001b[0m\u001b[0;34m\u001b[0m\u001b[0;34m\u001b[0m\u001b[0m\n\u001b[0m\u001b[1;32m    532\u001b[0m \u001b[0;34m\u001b[0m\u001b[0m\n",
            "\u001b[0;32m/usr/lib/python3.8/urllib/request.py\u001b[0m in \u001b[0;36mhttp_response\u001b[0;34m(self, request, response)\u001b[0m\n\u001b[1;32m    639\u001b[0m         \u001b[0;32mif\u001b[0m \u001b[0;32mnot\u001b[0m \u001b[0;34m(\u001b[0m\u001b[0;36m200\u001b[0m \u001b[0;34m<=\u001b[0m \u001b[0mcode\u001b[0m \u001b[0;34m<\u001b[0m \u001b[0;36m300\u001b[0m\u001b[0;34m)\u001b[0m\u001b[0;34m:\u001b[0m\u001b[0;34m\u001b[0m\u001b[0;34m\u001b[0m\u001b[0m\n\u001b[0;32m--> 640\u001b[0;31m             response = self.parent.error(\n\u001b[0m\u001b[1;32m    641\u001b[0m                 'http', request, response, code, msg, hdrs)\n",
            "\u001b[0;32m/usr/lib/python3.8/urllib/request.py\u001b[0m in \u001b[0;36merror\u001b[0;34m(self, proto, *args)\u001b[0m\n\u001b[1;32m    568\u001b[0m             \u001b[0margs\u001b[0m \u001b[0;34m=\u001b[0m \u001b[0;34m(\u001b[0m\u001b[0mdict\u001b[0m\u001b[0;34m,\u001b[0m \u001b[0;34m'default'\u001b[0m\u001b[0;34m,\u001b[0m \u001b[0;34m'http_error_default'\u001b[0m\u001b[0;34m)\u001b[0m \u001b[0;34m+\u001b[0m \u001b[0morig_args\u001b[0m\u001b[0;34m\u001b[0m\u001b[0;34m\u001b[0m\u001b[0m\n\u001b[0;32m--> 569\u001b[0;31m             \u001b[0;32mreturn\u001b[0m \u001b[0mself\u001b[0m\u001b[0;34m.\u001b[0m\u001b[0m_call_chain\u001b[0m\u001b[0;34m(\u001b[0m\u001b[0;34m*\u001b[0m\u001b[0margs\u001b[0m\u001b[0;34m)\u001b[0m\u001b[0;34m\u001b[0m\u001b[0;34m\u001b[0m\u001b[0m\n\u001b[0m\u001b[1;32m    570\u001b[0m \u001b[0;34m\u001b[0m\u001b[0m\n",
            "\u001b[0;32m/usr/lib/python3.8/urllib/request.py\u001b[0m in \u001b[0;36m_call_chain\u001b[0;34m(self, chain, kind, meth_name, *args)\u001b[0m\n\u001b[1;32m    501\u001b[0m             \u001b[0mfunc\u001b[0m \u001b[0;34m=\u001b[0m \u001b[0mgetattr\u001b[0m\u001b[0;34m(\u001b[0m\u001b[0mhandler\u001b[0m\u001b[0;34m,\u001b[0m \u001b[0mmeth_name\u001b[0m\u001b[0;34m)\u001b[0m\u001b[0;34m\u001b[0m\u001b[0;34m\u001b[0m\u001b[0m\n\u001b[0;32m--> 502\u001b[0;31m             \u001b[0mresult\u001b[0m \u001b[0;34m=\u001b[0m \u001b[0mfunc\u001b[0m\u001b[0;34m(\u001b[0m\u001b[0;34m*\u001b[0m\u001b[0margs\u001b[0m\u001b[0;34m)\u001b[0m\u001b[0;34m\u001b[0m\u001b[0;34m\u001b[0m\u001b[0m\n\u001b[0m\u001b[1;32m    503\u001b[0m             \u001b[0;32mif\u001b[0m \u001b[0mresult\u001b[0m \u001b[0;32mis\u001b[0m \u001b[0;32mnot\u001b[0m \u001b[0;32mNone\u001b[0m\u001b[0;34m:\u001b[0m\u001b[0;34m\u001b[0m\u001b[0;34m\u001b[0m\u001b[0m\n",
            "\u001b[0;32m/usr/lib/python3.8/urllib/request.py\u001b[0m in \u001b[0;36mhttp_error_default\u001b[0;34m(self, req, fp, code, msg, hdrs)\u001b[0m\n\u001b[1;32m    648\u001b[0m     \u001b[0;32mdef\u001b[0m \u001b[0mhttp_error_default\u001b[0m\u001b[0;34m(\u001b[0m\u001b[0mself\u001b[0m\u001b[0;34m,\u001b[0m \u001b[0mreq\u001b[0m\u001b[0;34m,\u001b[0m \u001b[0mfp\u001b[0m\u001b[0;34m,\u001b[0m \u001b[0mcode\u001b[0m\u001b[0;34m,\u001b[0m \u001b[0mmsg\u001b[0m\u001b[0;34m,\u001b[0m \u001b[0mhdrs\u001b[0m\u001b[0;34m)\u001b[0m\u001b[0;34m:\u001b[0m\u001b[0;34m\u001b[0m\u001b[0;34m\u001b[0m\u001b[0m\n\u001b[0;32m--> 649\u001b[0;31m         \u001b[0;32mraise\u001b[0m \u001b[0mHTTPError\u001b[0m\u001b[0;34m(\u001b[0m\u001b[0mreq\u001b[0m\u001b[0;34m.\u001b[0m\u001b[0mfull_url\u001b[0m\u001b[0;34m,\u001b[0m \u001b[0mcode\u001b[0m\u001b[0;34m,\u001b[0m \u001b[0mmsg\u001b[0m\u001b[0;34m,\u001b[0m \u001b[0mhdrs\u001b[0m\u001b[0;34m,\u001b[0m \u001b[0mfp\u001b[0m\u001b[0;34m)\u001b[0m\u001b[0;34m\u001b[0m\u001b[0;34m\u001b[0m\u001b[0m\n\u001b[0m\u001b[1;32m    650\u001b[0m \u001b[0;34m\u001b[0m\u001b[0m\n",
            "\u001b[0;31mHTTPError\u001b[0m: HTTP Error 400: Bad Request",
            "\nDuring handling of the above exception, another exception occurred:\n",
            "\u001b[0;31mQueryBadFormed\u001b[0m                            Traceback (most recent call last)",
            "\u001b[0;32m<ipython-input-81-f50e85b3c7c5>\u001b[0m in \u001b[0;36m<module>\u001b[0;34m\u001b[0m\n\u001b[1;32m     15\u001b[0m \u001b[0;34m\u001b[0m\u001b[0m\n\u001b[1;32m     16\u001b[0m \u001b[0mdbpedia\u001b[0m\u001b[0;34m.\u001b[0m\u001b[0msetReturnFormat\u001b[0m\u001b[0;34m(\u001b[0m\u001b[0mSPARQLWrapper\u001b[0m\u001b[0;34m.\u001b[0m\u001b[0mJSON\u001b[0m\u001b[0;34m)\u001b[0m\u001b[0;34m\u001b[0m\u001b[0;34m\u001b[0m\u001b[0m\n\u001b[0;32m---> 17\u001b[0;31m \u001b[0mwd_results\u001b[0m \u001b[0;34m=\u001b[0m \u001b[0mdbpedia\u001b[0m\u001b[0;34m.\u001b[0m\u001b[0mquery\u001b[0m\u001b[0;34m(\u001b[0m\u001b[0;34m)\u001b[0m\u001b[0;34m.\u001b[0m\u001b[0mconvert\u001b[0m\u001b[0;34m(\u001b[0m\u001b[0;34m)\u001b[0m\u001b[0;34m\u001b[0m\u001b[0;34m\u001b[0m\u001b[0m\n\u001b[0m\u001b[1;32m     18\u001b[0m \u001b[0;34m\u001b[0m\u001b[0m\n\u001b[1;32m     19\u001b[0m \u001b[0mprint\u001b[0m\u001b[0;34m(\u001b[0m\u001b[0mwd_results\u001b[0m\u001b[0;34m)\u001b[0m\u001b[0;34m\u001b[0m\u001b[0;34m\u001b[0m\u001b[0m\n",
            "\u001b[0;32m/usr/local/lib/python3.8/dist-packages/SPARQLWrapper/Wrapper.py\u001b[0m in \u001b[0;36mquery\u001b[0;34m(self)\u001b[0m\n\u001b[1;32m    958\u001b[0m         \u001b[0;34m:\u001b[0m\u001b[0mrtype\u001b[0m\u001b[0;34m:\u001b[0m \u001b[0;34m:\u001b[0m\u001b[0;32mclass\u001b[0m\u001b[0;34m:\u001b[0m\u001b[0;31m`\u001b[0m\u001b[0mQueryResult\u001b[0m\u001b[0;31m`\u001b[0m \u001b[0minstance\u001b[0m\u001b[0;34m\u001b[0m\u001b[0;34m\u001b[0m\u001b[0m\n\u001b[1;32m    959\u001b[0m         \"\"\"\n\u001b[0;32m--> 960\u001b[0;31m         \u001b[0;32mreturn\u001b[0m \u001b[0mQueryResult\u001b[0m\u001b[0;34m(\u001b[0m\u001b[0mself\u001b[0m\u001b[0;34m.\u001b[0m\u001b[0m_query\u001b[0m\u001b[0;34m(\u001b[0m\u001b[0;34m)\u001b[0m\u001b[0;34m)\u001b[0m\u001b[0;34m\u001b[0m\u001b[0;34m\u001b[0m\u001b[0m\n\u001b[0m\u001b[1;32m    961\u001b[0m \u001b[0;34m\u001b[0m\u001b[0m\n\u001b[1;32m    962\u001b[0m     \u001b[0;32mdef\u001b[0m \u001b[0mqueryAndConvert\u001b[0m\u001b[0;34m(\u001b[0m\u001b[0mself\u001b[0m\u001b[0;34m)\u001b[0m \u001b[0;34m->\u001b[0m \u001b[0;34m\"QueryResult.ConvertResult\"\u001b[0m\u001b[0;34m:\u001b[0m\u001b[0;34m\u001b[0m\u001b[0;34m\u001b[0m\u001b[0m\n",
            "\u001b[0;32m/usr/local/lib/python3.8/dist-packages/SPARQLWrapper/Wrapper.py\u001b[0m in \u001b[0;36m_query\u001b[0;34m(self)\u001b[0m\n\u001b[1;32m    928\u001b[0m         \u001b[0;32mexcept\u001b[0m \u001b[0murllib\u001b[0m\u001b[0;34m.\u001b[0m\u001b[0merror\u001b[0m\u001b[0;34m.\u001b[0m\u001b[0mHTTPError\u001b[0m \u001b[0;32mas\u001b[0m \u001b[0me\u001b[0m\u001b[0;34m:\u001b[0m\u001b[0;34m\u001b[0m\u001b[0;34m\u001b[0m\u001b[0m\n\u001b[1;32m    929\u001b[0m             \u001b[0;32mif\u001b[0m \u001b[0me\u001b[0m\u001b[0;34m.\u001b[0m\u001b[0mcode\u001b[0m \u001b[0;34m==\u001b[0m \u001b[0;36m400\u001b[0m\u001b[0;34m:\u001b[0m\u001b[0;34m\u001b[0m\u001b[0;34m\u001b[0m\u001b[0m\n\u001b[0;32m--> 930\u001b[0;31m                 \u001b[0;32mraise\u001b[0m \u001b[0mQueryBadFormed\u001b[0m\u001b[0;34m(\u001b[0m\u001b[0me\u001b[0m\u001b[0;34m.\u001b[0m\u001b[0mread\u001b[0m\u001b[0;34m(\u001b[0m\u001b[0;34m)\u001b[0m\u001b[0;34m)\u001b[0m\u001b[0;34m\u001b[0m\u001b[0;34m\u001b[0m\u001b[0m\n\u001b[0m\u001b[1;32m    931\u001b[0m             \u001b[0;32melif\u001b[0m \u001b[0me\u001b[0m\u001b[0;34m.\u001b[0m\u001b[0mcode\u001b[0m \u001b[0;34m==\u001b[0m \u001b[0;36m404\u001b[0m\u001b[0;34m:\u001b[0m\u001b[0;34m\u001b[0m\u001b[0;34m\u001b[0m\u001b[0m\n\u001b[1;32m    932\u001b[0m                 \u001b[0;32mraise\u001b[0m \u001b[0mEndPointNotFound\u001b[0m\u001b[0;34m(\u001b[0m\u001b[0me\u001b[0m\u001b[0;34m.\u001b[0m\u001b[0mread\u001b[0m\u001b[0;34m(\u001b[0m\u001b[0;34m)\u001b[0m\u001b[0;34m)\u001b[0m\u001b[0;34m\u001b[0m\u001b[0;34m\u001b[0m\u001b[0m\n",
            "\u001b[0;31mQueryBadFormed\u001b[0m: QueryBadFormed: A bad request has been sent to the endpoint: probably the SPARQL query is badly formed. \n\nResponse:\nb'Virtuoso 37000 Error SP030: SPARQL compiler, line 3: Missing <namespace-iri-string> in PREFIX declaration at \\'http:\\' before \\'/\\'\\n\\nSPARQL query:\\n#output-format:application/sparql-results+json\\n\\nPREFIX dbo: http://dbpedia.org/ontology/\\nPREFIX dbr: http://dbpedia.org/resource/\\n\\nSELECT ?driver ?driverName WHERE {\\n  ?driver a dbo:FormulaOneRacer ;\\n          dbo:wikiPageID \\'675561\\' ;\\n          rdfs:label ?driverName .\\n  FILTER (lang(?driverName) = \"en\")\\n}\\n'"
          ]
        }
      ]
    },
    {
      "cell_type": "code",
      "source": [
        "# now, you can go through the results (it is a Python dict!) and print them\n",
        "print(\"TOP 5 countries by population:\")\n",
        "for result in wd_results[\"results\"][\"bindings\"]:\n",
        "    print(f'{result[\"countryLabel\"][\"value\"]} ({result[\"country\"][\"value\"]}): ' +\n",
        "          f'{result[\"population\"][\"value\"]}')"
      ],
      "metadata": {
        "id": "36SvKeKHth7Z"
      },
      "execution_count": null,
      "outputs": []
    },
    {
      "cell_type": "code",
      "source": [
        "# Prepare the SPARQLWrapper for DBpedia\n",
        "dbpedia = # _FILL_IN_YOUR_CODE_HERE\n",
        "\n",
        "def getLeadersForCountry(wikidataURI):\n",
        "    # Prepare the query\n",
        "    dbpedia.setQuery(  # _FILL_IN_YOUR_CODE_HERE\n",
        "                    )\n",
        "\n",
        "    # query will be executed, the result will be parsed into one string and returned\n",
        "    dbp_results = dbpedia.query().convert()\n",
        "    leaders_string = ', '.join([result[\"leader\"][\"value\"] for result in dbp_results[\"results\"][\"bindings\"]])\n",
        "    return leaders_string"
      ],
      "metadata": {
        "id": "tCQFbbnyXTBh"
      },
      "execution_count": null,
      "outputs": []
    },
    {
      "cell_type": "code",
      "source": [
        "print(\"Leaders of TOP 5 countries by population:\")\n",
        "for result in wd_results[\"results\"][\"bindings\"]:\n",
        "    # execute the getLeadersForCountry() properly!\n",
        "    print(f'{result[\"countryLabel\"][\"value\"]}: {       # _FILL_IN_YOUR_CODE_HERE       }')"
      ],
      "metadata": {
        "id": "rEygV02uxTfJ"
      },
      "execution_count": null,
      "outputs": []
    },
    {
      "cell_type": "markdown",
      "source": [
        "### Store graphs using `RDFLib`\n",
        "\n",
        "*Use https://rdflib.readthedocs.io/en/stable/index.html as a reference for `RDFLib`*\n",
        "\n",
        "But what if we want to keep a knowledge graph in Python?  \n",
        "Let's extract the same knowledge from the Wikidata, but now as a graph (using the CONSTRUCT query)"
      ],
      "metadata": {
        "id": "w8c_gUqznYU8"
      }
    },
    {
      "cell_type": "code",
      "source": [
        "# specify the query\n",
        "wikidata.setQuery(\"\"\"\n",
        "PREFIX bd: <http://www.bigdata.com/rdf#>\n",
        "PREFIX wd: <http://www.wikidata.org/entity/> \n",
        "PREFIX wdt: <http://www.wikidata.org/prop/direct/>\n",
        "PREFIX wikibase: <http://wikiba.se/ontology#> \n",
        "PREFIX rdfs: <http://www.w3.org/2000/01/rdf-schema#>\n",
        "PREFIX ex: <https://example.org/>\n",
        "\n",
        "CONSTRUCT {\n",
        "    ?country  rdfs:label     ?countryLabel ;\n",
        "              ex:population  ?population .\n",
        "}\n",
        "WHERE {\n",
        "    ?country wdt:P31 wd:Q6256 ;\n",
        "             wdt:P1082 ?population ;\n",
        "             rdfs:label ?countryLabel .\n",
        "    FILTER(LANG(?countryLabel) = \"en\")\n",
        "}\n",
        "ORDER BY DESC(?population)\n",
        "LIMIT 5\n",
        "\"\"\")"
      ],
      "metadata": {
        "id": "8vCNQf16Emii"
      },
      "execution_count": null,
      "outputs": []
    },
    {
      "cell_type": "code",
      "source": [
        "# use the RDF/XML format (we will get the graph, so the JSON is not appropriate)\n",
        "wikidata.setReturnFormat(SPARQLWrapper.RDFXML)"
      ],
      "metadata": {
        "id": "EJ6K-zaEpxLA"
      },
      "execution_count": null,
      "outputs": []
    },
    {
      "cell_type": "code",
      "source": [
        "# get the results, but do not convert them yet\n",
        "wd_results = wikidata.query()\n",
        "# instead, read the returned RDF/XML\n",
        "wd_xml_response = wd_results.response.read()\n",
        "# and show it on the screen\n",
        "print(wd_xml_response)"
      ],
      "metadata": {
        "id": "gQtly9wXp6S0"
      },
      "execution_count": null,
      "outputs": []
    },
    {
      "cell_type": "markdown",
      "source": [
        "Ok, we have the graph. But what to do now?  \n",
        "We can use RDFLib to store this graph!"
      ],
      "metadata": {
        "id": "WqhNXA6ftOvd"
      }
    },
    {
      "cell_type": "code",
      "source": [
        "import rdflib"
      ],
      "metadata": {
        "id": "9PTzV_C7p-Nr"
      },
      "execution_count": null,
      "outputs": []
    },
    {
      "cell_type": "code",
      "source": [
        "# Load the graph\n",
        "graph = rdflib.Graph()\n",
        "graph.parse(data=wd_xml_response, format=\"xml\")"
      ],
      "metadata": {
        "id": "onZqHMZ8rVoN"
      },
      "execution_count": null,
      "outputs": []
    },
    {
      "cell_type": "code",
      "source": [
        "# Now, we can print the whole graph in Turtle format\n",
        "print(graph.serialize(format='turtle'))"
      ],
      "metadata": {
        "id": "omSytVTTtpO-"
      },
      "execution_count": null,
      "outputs": []
    },
    {
      "cell_type": "markdown",
      "source": [
        "You can add new triples to the graph using `add()` method:"
      ],
      "metadata": {
        "id": "dPLNCPvPyXGx"
      }
    },
    {
      "cell_type": "code",
      "source": [
        "graph.add((\n",
        "    rdflib.URIRef(\"http://www.wikidata.org/entity/Q36\"),  # URIRef gives us possibility to provide any URI\n",
        "    rdflib.RDFS.label,                                    # There are also some predefined URIS\n",
        "    rdflib.Literal(\"Poland\", lang=\"en\")                   # Literals are also supported\n",
        "))\n",
        "\n",
        "graph.add((\n",
        "    rdflib.URIRef(\"http://www.wikidata.org/entity/Q36\"),\n",
        "    rdflib.URIRef(\"https://example.org/population\"),\n",
        "    rdflib.Literal(38411148, datatype=rdflib.XSD.decimal)\n",
        "))"
      ],
      "metadata": {
        "id": "uZ7SbGUvtt6R"
      },
      "execution_count": null,
      "outputs": []
    },
    {
      "cell_type": "code",
      "source": [
        "# Let's check if Poland is there\n",
        "print(graph.serialize(format='turtle'))"
      ],
      "metadata": {
        "id": "FznYlvikwyKW"
      },
      "execution_count": null,
      "outputs": []
    },
    {
      "cell_type": "markdown",
      "source": [
        "**Task 2**: Fill the graph with information about leaders.\n",
        "* Use the similar query as in Task 1 to extract the knowledge from DBpedia. Now, use the `SPARQL CONSTRUCT` scheme.\n",
        "* Add the data in proper way. As a result, each country should have one `rdfs:label`, one `ex:population` and some `ex:leader` properties.\n",
        "* To add a set of triples to the graph, you can simply use the `graph.parse()` method (as presented in: https://rdflib.readthedocs.io/en/stable/merging.html)"
      ],
      "metadata": {
        "id": "jruKgiOv0_lM"
      }
    },
    {
      "cell_type": "code",
      "source": [
        "dbpedia.setReturnFormat(SPARQLWrapper.RDFXML)\n",
        "\n",
        "# the loop iterates over all subjects of triples with predicate ex:population,\n",
        "# i.e., it iterates over all countries!\n",
        "for wikidataURI in graph.subjects(predicate=rdflib.URIRef(\"https://example.org/population\")):\n",
        "\n",
        "    dbpedia.setQuery(   # _FILL_IN_YOUR_CODE_HERE     )\n",
        "    \n",
        "    # add new triples to the graph\n",
        "    # _FILL_IN_YOUR_CODE_HERE\n",
        "    "
      ],
      "metadata": {
        "id": "YgJ-uaeDyAAd"
      },
      "execution_count": null,
      "outputs": []
    },
    {
      "cell_type": "code",
      "source": [
        "# Let's check if everything is OK!\n",
        "print(graph.serialize(format='turtle'))"
      ],
      "metadata": {
        "id": "-oLSiOH83vGp"
      },
      "execution_count": null,
      "outputs": []
    },
    {
      "cell_type": "markdown",
      "source": [
        "**Task 3**: Extract something from your knowledge graph stored in `graph` using both ways provided by the RDFLib:\n",
        "1. A set of Python methods (described in https://rdflib.readthedocs.io/en/stable/intro_to_graphs.html)\n",
        "2. A SPARQL interface (described in https://rdflib.readthedocs.io/en/stable/intro_to_sparql.html)\n",
        "\n",
        "You can also interact with your own graph instead of countries and leaders example if you wish :-)"
      ],
      "metadata": {
        "id": "hoM61Ynu8D3i"
      }
    },
    {
      "cell_type": "code",
      "source": [
        "# _FILL_IN_YOUR_CODE_HERE"
      ],
      "metadata": {
        "id": "MfjdSkdI64dP"
      },
      "execution_count": null,
      "outputs": []
    },
    {
      "cell_type": "markdown",
      "source": [
        "### Ontologies are also supported in Python (via `owlready2`)\n",
        "\n",
        "*Use https://owlready2.readthedocs.io/en/latest/index.html as a reference for `owlready2`*"
      ],
      "metadata": {
        "id": "BcF-FzvA9kB9"
      }
    },
    {
      "cell_type": "code",
      "source": [
        "import owlready2"
      ],
      "metadata": {
        "id": "gmUhefdY-GaM"
      },
      "execution_count": null,
      "outputs": []
    },
    {
      "cell_type": "code",
      "source": [
        "# download the FHKB ontology (used in reasoning lab: https://wiki.iis.uj.edu.pl/courses:semint:lab_reasoning)\n",
        "!wget https://krzysztof.kutt.pl/didactics/semweb/fhkb.owl"
      ],
      "metadata": {
        "id": "rGxfPCB__lA1"
      },
      "execution_count": null,
      "outputs": []
    },
    {
      "cell_type": "code",
      "source": [
        "onto = owlready2.get_ontology(\"fhkb.owl\")"
      ],
      "metadata": {
        "id": "nGdra1Jn-o31"
      },
      "execution_count": null,
      "outputs": []
    },
    {
      "cell_type": "code",
      "source": [
        "onto.load()"
      ],
      "metadata": {
        "id": "vz7q7DYl_cvg"
      },
      "execution_count": null,
      "outputs": []
    },
    {
      "cell_type": "code",
      "source": [
        "# This is the base IRI for the ontology\n",
        "print(onto.base_iri)"
      ],
      "metadata": {
        "id": "1419F5QnBsty"
      },
      "execution_count": null,
      "outputs": []
    },
    {
      "cell_type": "code",
      "source": [
        "# We can list all classes in the ontology (there are similar methods for properties and individuals)\n",
        "print(list(onto.classes()))"
      ],
      "metadata": {
        "id": "XCsMFOoR_gXX"
      },
      "execution_count": null,
      "outputs": []
    },
    {
      "cell_type": "markdown",
      "source": [
        "**Task 4**: There is a Person class. Let's investigate it more.\n",
        "* List all methods and fields available for `onto.Person` -- use built-in [`dir()`](https://docs.python.org/3/library/functions.html#dir) method\n",
        "* The most interesting ones are: `name`, `iri`, `is_a`, `instances()` and `subclasses()` -- check them!"
      ],
      "metadata": {
        "id": "hjcB9P1SC0OR"
      }
    },
    {
      "cell_type": "code",
      "source": [
        "# _FILL_IN_YOUR_CODE_HERE\n"
      ],
      "metadata": {
        "id": "xo0nfwrXAlQu"
      },
      "execution_count": null,
      "outputs": []
    },
    {
      "cell_type": "markdown",
      "source": [
        "**Task 5**: The ontology has a very useful search() function. See: https://owlready2.readthedocs.io/en/latest/onto.html#simple-queries  \n",
        " Use it to perform four queries:\n",
        "1. search for all instances of `onto.Person`\n",
        "2. search for all instances that are in relation `onto.hasFather` to any object\n",
        "3. search for all instances that has `john` in the IRI\n",
        "4. search for all instances that follow both: has `john` in the IRI and are in relation `onto.hasFather` to any object"
      ],
      "metadata": {
        "id": "2yB8_VUsKCAy"
      }
    },
    {
      "cell_type": "code",
      "source": [
        "# _FILL_IN_YOUR_CODE_HERE\n"
      ],
      "metadata": {
        "id": "88Zj_9N1KCIY"
      },
      "execution_count": null,
      "outputs": []
    },
    {
      "cell_type": "markdown",
      "source": [
        "**Task 6:** You can simply iterate through the `search()` results, to get more data. Now, list all instances from the Task 5.4 together **with their father and mother**"
      ],
      "metadata": {
        "id": "wd42fOdyNUq0"
      }
    },
    {
      "cell_type": "code",
      "source": [
        "# _FILL_IN_YOUR_CODE_HERE\n"
      ],
      "metadata": {
        "id": "i6Y0IwQSLvsP"
      },
      "execution_count": null,
      "outputs": []
    },
    {
      "cell_type": "markdown",
      "source": [
        "**Task 7** If you want to perform SPARQL queries, it is also possible. You can simply execute the query using `owlready2.default_world.sparql()` function.\n",
        "\n",
        "If you have time, rewrite the query from Task 6 into SPARQL and execute against the ontology.\n",
        "\n",
        "Use https://owlready2.readthedocs.io/en/latest/sparql.html#performing-sparql-queries for reference."
      ],
      "metadata": {
        "id": "pCakoah2N6nV"
      }
    },
    {
      "cell_type": "code",
      "source": [
        "# _FILL_IN_YOUR_CODE_HERE\n"
      ],
      "metadata": {
        "id": "Yb2-sXy2KlJ9"
      },
      "execution_count": null,
      "outputs": []
    },
    {
      "cell_type": "markdown",
      "source": [
        "There is much more to do with owlready2: inference, SWRL rules, ...  \n",
        "Take a look at the [documentation](https://owlready2.readthedocs.io/en/latest/index.html) and the great **[Cooking with Python and KBpedia series](https://www.mkbergman.com/cooking-with-python-and-kbpedia/)**"
      ],
      "metadata": {
        "id": "FbXiWuhAPPUj"
      }
    },
    {
      "cell_type": "code",
      "source": [],
      "metadata": {
        "id": "nLLpGu0uPoh1"
      },
      "execution_count": null,
      "outputs": []
    }
  ]
}
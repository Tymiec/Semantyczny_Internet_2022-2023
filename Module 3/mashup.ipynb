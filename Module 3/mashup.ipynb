{
  "cells": [
    {
      "attachments": {},
      "cell_type": "markdown",
      "metadata": {},
      "source": [
        "# Mashup query\n",
        "projekt grupy:\n",
        "* Bartosz Mierzwa\n",
        "* Pawel Król\n",
        "* Tymoteusz Białkowski\n",
        "* Rodosław Szydłowski"
      ]
    },
    {
      "attachments": {},
      "cell_type": "markdown",
      "metadata": {},
      "source": [
        "## 0. Przygotowania mashupu"
      ]
    },
    {
      "attachments": {},
      "cell_type": "markdown",
      "metadata": {},
      "source": [
        "### Instalowanie biblitek"
      ]
    },
    {
      "cell_type": "code",
      "execution_count": 1,
      "metadata": {
        "colab": {
          "base_uri": "https://localhost:8080/"
        },
        "id": "wIGYPMUvkuq-",
        "outputId": "571f7a6b-1074-48fe-ccc5-0590d438a881"
      },
      "outputs": [
        {
          "name": "stdout",
          "output_type": "stream",
          "text": [
            "Defaulting to user installation because normal site-packages is not writeable\n",
            "Requirement already satisfied: sparqlwrapper in c:\\users\\kimel\\appdata\\roaming\\python\\python311\\site-packages (2.0.0)\n",
            "Requirement already satisfied: rdflib in c:\\users\\kimel\\appdata\\roaming\\python\\python311\\site-packages (6.2.0)\n",
            "Requirement already satisfied: owlready2 in c:\\users\\kimel\\appdata\\roaming\\python\\python311\\site-packages (0.39)\n",
            "Requirement already satisfied: isodate in c:\\users\\kimel\\appdata\\roaming\\python\\python311\\site-packages (from rdflib) (0.6.1)\n",
            "Requirement already satisfied: pyparsing in c:\\users\\kimel\\appdata\\roaming\\python\\python311\\site-packages (from rdflib) (3.0.9)\n",
            "Requirement already satisfied: setuptools in c:\\program files\\python311\\lib\\site-packages (from rdflib) (65.5.0)\n",
            "Requirement already satisfied: six in c:\\users\\kimel\\appdata\\roaming\\python\\python311\\site-packages (from isodate->rdflib) (1.16.0)\n"
          ]
        }
      ],
      "source": [
        "!pip install sparqlwrapper rdflib owlready2"
      ]
    },
    {
      "cell_type": "code",
      "execution_count": 2,
      "metadata": {
        "id": "CT0xbAZXn5ED"
      },
      "outputs": [],
      "source": [
        "import SPARQLWrapper\n",
        "import urllib\n",
        "import rdflib\n",
        "import requests\n",
        "import json\n",
        "import pandas as pd\n",
        "from IPython.display import display"
      ]
    },
    {
      "attachments": {},
      "cell_type": "markdown",
      "metadata": {},
      "source": [
        "### Wycztywanie danych\n",
        "Wczytywanie danych z pliku csv."
      ]
    },
    {
      "cell_type": "code",
      "execution_count": 3,
      "metadata": {
        "colab": {
          "base_uri": "https://localhost:8080/",
          "height": 206
        },
        "id": "V21odkIrNraI",
        "outputId": "35efd82b-a341-4067-e973-55a7c0fbe759"
      },
      "outputs": [
        {
          "data": {
            "text/html": [
              "<div>\n",
              "<style scoped>\n",
              "    .dataframe tbody tr th:only-of-type {\n",
              "        vertical-align: middle;\n",
              "    }\n",
              "\n",
              "    .dataframe tbody tr th {\n",
              "        vertical-align: top;\n",
              "    }\n",
              "\n",
              "    .dataframe thead th {\n",
              "        text-align: right;\n",
              "    }\n",
              "</style>\n",
              "<table border=\"1\" class=\"dataframe\">\n",
              "  <thead>\n",
              "    <tr style=\"text-align: right;\">\n",
              "      <th></th>\n",
              "      <th>driverId</th>\n",
              "      <th>driverRef</th>\n",
              "      <th>number</th>\n",
              "      <th>code</th>\n",
              "      <th>forename</th>\n",
              "      <th>surname</th>\n",
              "      <th>dob</th>\n",
              "      <th>nationality</th>\n",
              "      <th>url</th>\n",
              "    </tr>\n",
              "  </thead>\n",
              "  <tbody>\n",
              "    <tr>\n",
              "      <th>0</th>\n",
              "      <td>1</td>\n",
              "      <td>hamilton</td>\n",
              "      <td>44</td>\n",
              "      <td>HAM</td>\n",
              "      <td>Lewis</td>\n",
              "      <td>Hamilton</td>\n",
              "      <td>1985-01-07</td>\n",
              "      <td>British</td>\n",
              "      <td>http://en.wikipedia.org/wiki/Lewis_Hamilton</td>\n",
              "    </tr>\n",
              "    <tr>\n",
              "      <th>1</th>\n",
              "      <td>2</td>\n",
              "      <td>heidfeld</td>\n",
              "      <td>\\N</td>\n",
              "      <td>HEI</td>\n",
              "      <td>Nick</td>\n",
              "      <td>Heidfeld</td>\n",
              "      <td>1977-05-10</td>\n",
              "      <td>German</td>\n",
              "      <td>http://en.wikipedia.org/wiki/Nick_Heidfeld</td>\n",
              "    </tr>\n",
              "    <tr>\n",
              "      <th>2</th>\n",
              "      <td>3</td>\n",
              "      <td>rosberg</td>\n",
              "      <td>6</td>\n",
              "      <td>ROS</td>\n",
              "      <td>Nico</td>\n",
              "      <td>Rosberg</td>\n",
              "      <td>1985-06-27</td>\n",
              "      <td>German</td>\n",
              "      <td>http://en.wikipedia.org/wiki/Nico_Rosberg</td>\n",
              "    </tr>\n",
              "    <tr>\n",
              "      <th>3</th>\n",
              "      <td>4</td>\n",
              "      <td>alonso</td>\n",
              "      <td>14</td>\n",
              "      <td>ALO</td>\n",
              "      <td>Fernando</td>\n",
              "      <td>Alonso</td>\n",
              "      <td>1981-07-29</td>\n",
              "      <td>Spanish</td>\n",
              "      <td>http://en.wikipedia.org/wiki/Fernando_Alonso</td>\n",
              "    </tr>\n",
              "    <tr>\n",
              "      <th>4</th>\n",
              "      <td>5</td>\n",
              "      <td>kovalainen</td>\n",
              "      <td>\\N</td>\n",
              "      <td>KOV</td>\n",
              "      <td>Heikki</td>\n",
              "      <td>Kovalainen</td>\n",
              "      <td>1981-10-19</td>\n",
              "      <td>Finnish</td>\n",
              "      <td>http://en.wikipedia.org/wiki/Heikki_Kovalainen</td>\n",
              "    </tr>\n",
              "  </tbody>\n",
              "</table>\n",
              "</div>"
            ],
            "text/plain": [
              "   driverId   driverRef number code  forename     surname         dob  \\\n",
              "0         1    hamilton     44  HAM     Lewis    Hamilton  1985-01-07   \n",
              "1         2    heidfeld     \\N  HEI      Nick    Heidfeld  1977-05-10   \n",
              "2         3     rosberg      6  ROS      Nico     Rosberg  1985-06-27   \n",
              "3         4      alonso     14  ALO  Fernando      Alonso  1981-07-29   \n",
              "4         5  kovalainen     \\N  KOV    Heikki  Kovalainen  1981-10-19   \n",
              "\n",
              "  nationality                                             url  \n",
              "0     British     http://en.wikipedia.org/wiki/Lewis_Hamilton  \n",
              "1      German      http://en.wikipedia.org/wiki/Nick_Heidfeld  \n",
              "2      German       http://en.wikipedia.org/wiki/Nico_Rosberg  \n",
              "3     Spanish    http://en.wikipedia.org/wiki/Fernando_Alonso  \n",
              "4     Finnish  http://en.wikipedia.org/wiki/Heikki_Kovalainen  "
            ]
          },
          "execution_count": 3,
          "metadata": {},
          "output_type": "execute_result"
        }
      ],
      "source": [
        "# link do danych w formacie csv\n",
        "url = 'https://sharing.srv39249.seohost.com.pl/semantyczny/drivers.csv'\n",
        "\n",
        "drivers_df = pd.read_csv(url)\n",
        "drivers_df.head()"
      ]
    },
    {
      "attachments": {},
      "cell_type": "markdown",
      "metadata": {},
      "source": [
        "### Przygotowanie zapytań"
      ]
    },
    {
      "cell_type": "code",
      "execution_count": 4,
      "metadata": {},
      "outputs": [],
      "source": [
        "dbpedia = SPARQLWrapper.SPARQLWrapper('https://dbpedia.org/sparql')\n",
        "\n",
        "prefixes = f\"\"\"\n",
        "  PREFIX dbo: <http://dbpedia.org/ontology/>\n",
        "  PREFIX dbp: <http://dbpedia.org/property/>\n",
        "  PREFIX dbr: <http://dbpedia.org/resource/>\n",
        "  PREFIX foaf: <http://xmlns.com/foaf/0.1/>\n",
        "\"\"\"\n",
        "\n",
        "prop = ['', 'dbo:firstDriver', 'dbo:secondDriver', 'dbo:thirdDriver']\n",
        "place_str = ['0th', '1st', '2nd', '3rd']\n",
        "\n",
        "def getDriverInfoQueryString(urls):\n",
        "  urls = ' '.join('<{}>'.format(s.strip()) for s in urls)\n",
        "  return f\"\"\" {prefixes}\n",
        "    SELECT ?birthName, ?birthPlace, ?url WHERE {{\n",
        "      ?driver a dbo:FormulaOneRacer ;\n",
        "              foaf:isPrimaryTopicOf ?url ;\n",
        "              dbp:birthPlace ?birthPlace ;\n",
        "              dbp:birthName ?birthName .\n",
        "    FILTER (lang(?birthPlace) = \"en\")\n",
        "    FILTER (lang(?birthName) = \"en\")\n",
        "    VALUES ?url {{{urls}}}\n",
        "    }}\n",
        "    \"\"\"\n",
        "\n",
        "\n",
        "\n",
        "def getDriverAchivemntsQueryString(url, place):\n",
        "  return f\"\"\" {prefixes}\n",
        "  SELECT ?raceName, ?year WHERE {{\n",
        "      ?driver a dbo:FormulaOneRacer ;\n",
        "              foaf:isPrimaryTopicOf <{url}> .\n",
        "      ?race {prop[place]} ?driver ;\n",
        "          dbp:year ?year ;\n",
        "          dbp:nameOfRace ?race1 .\n",
        "      ?race1 rdfs:label ?raceName .\n",
        "    FILTER (lang(?raceName) = \"en\")\n",
        "    }}\n",
        "    \"\"\"\n",
        "\n",
        "def queryDBpedia(query):\n",
        "  dbpedia.setQuery(query)\n",
        "  dbpedia.setReturnFormat(SPARQLWrapper.JSON)\n",
        "  return dbpedia.query().convert()\n",
        "\n",
        "def getTabularData(url, place):\n",
        "\tres = queryDBpedia(getDriverAchivemntsQueryString(url, place))\n",
        "\ttmp = []\n",
        "\tfor x in res['results']['bindings']:\n",
        "\t\ttmp.append({place_str[place]: x['raceName']['value'], 'year': x['year']['value']})\n",
        "\treturn pd.DataFrame(tmp).set_index(['year']).groupby(\"year\").count()"
      ]
    },
    {
      "attachments": {},
      "cell_type": "markdown",
      "metadata": {},
      "source": [
        "## 1. mashup query - dane kierowcy\n",
        "Wyświetla dane o kierowcy z pliku csv oraz z dbpedii. Imię i nazwisko nalezy wprowadzić na wejściu oddzielając je przecinkiem. Można podać imiona i nazwiska wielu kierowców, oddzielając je przecinkami. Zapytanie wypisze dane dla wszystkich kierowców, dla których udało się znaleść informacje.\n",
        "Przykłady:\n",
        "* Robert Kubica \n",
        "* Lewis Hamilton\n",
        "* Robert Kubica, Lewis Hamilton\n",
        "* Robert Kubica, Lewis Hamilton, Nico Rosberg, Fernando Alonso"
      ]
    },
    {
      "cell_type": "code",
      "execution_count": 9,
      "metadata": {},
      "outputs": [
        {
          "data": {
            "text/html": [
              "<div>\n",
              "<style scoped>\n",
              "    .dataframe tbody tr th:only-of-type {\n",
              "        vertical-align: middle;\n",
              "    }\n",
              "\n",
              "    .dataframe tbody tr th {\n",
              "        vertical-align: top;\n",
              "    }\n",
              "\n",
              "    .dataframe thead th {\n",
              "        text-align: right;\n",
              "    }\n",
              "</style>\n",
              "<table border=\"1\" class=\"dataframe\">\n",
              "  <thead>\n",
              "    <tr style=\"text-align: right;\">\n",
              "      <th></th>\n",
              "      <th>number</th>\n",
              "      <th>code</th>\n",
              "      <th>forename</th>\n",
              "      <th>surname</th>\n",
              "      <th>birth date</th>\n",
              "      <th>nationality</th>\n",
              "      <th>url</th>\n",
              "      <th>birth name</th>\n",
              "      <th>birth places</th>\n",
              "    </tr>\n",
              "  </thead>\n",
              "  <tbody>\n",
              "    <tr>\n",
              "      <th>0</th>\n",
              "      <td>44</td>\n",
              "      <td>HAM</td>\n",
              "      <td>Lewis</td>\n",
              "      <td>Hamilton</td>\n",
              "      <td>1985-01-07</td>\n",
              "      <td>British</td>\n",
              "      <td>http://en.wikipedia.org/wiki/Lewis_Hamilton</td>\n",
              "      <td>Lewis Carl Davidson Hamilton</td>\n",
              "      <td>Stevenage, Hertfordshire, England</td>\n",
              "    </tr>\n",
              "  </tbody>\n",
              "</table>\n",
              "</div>"
            ],
            "text/plain": [
              "  number code forename   surname  birth date nationality  \\\n",
              "0     44  HAM    Lewis  Hamilton  1985-01-07     British   \n",
              "\n",
              "                                           url                    birth name  \\\n",
              "0  http://en.wikipedia.org/wiki/Lewis_Hamilton  Lewis Carl Davidson Hamilton   \n",
              "\n",
              "                        birth places  \n",
              "0  Stevenage, Hertfordshire, England  "
            ]
          },
          "metadata": {},
          "output_type": "display_data"
        }
      ],
      "source": [
        "name_input = input('Wprowadź imię i nazwisko kierowcy (na przykład \"Lewis Hamilton\", wiele oddziel przecinkiem): ')\n",
        "name_input = [s.strip() for s in name_input.split(',')]\n",
        "\n",
        "driver_df = drivers_df[(drivers_df['forename'] + ' ' + drivers_df['surname']).isin(name_input)]\n",
        "driver_df = driver_df.drop(['driverRef', 'driverId'], axis='columns')\\\n",
        "                     .rename({'dob': 'birth date'}, axis='columns')\\\n",
        "                     .reset_index()\n",
        "urls = driver_df['url'].values\n",
        "\n",
        "resInfo = queryDBpedia(getDriverInfoQueryString(urls))\n",
        "birthNames = [res['birthName']['value'] for res in resInfo['results']['bindings']]\n",
        "birthPlaces = [res['birthPlace']['value'] for res in resInfo['results']['bindings']]\n",
        "urls = [res['url']['value'] for res in resInfo['results']['bindings']]\n",
        "temp_df = pd.DataFrame({'birth name': birthNames, 'birth places': birthPlaces, 'url': urls})\n",
        "driver_df = driver_df.merge(temp_df, on='url')\\\n",
        "                     .drop(['index'], axis='columns')\n",
        "\n",
        "display(driver_df)"
      ]
    },
    {
      "attachments": {},
      "cell_type": "markdown",
      "metadata": {},
      "source": [
        "## 2. mashup query - wyniki kierowcy\n",
        "Wygeneruj tabelę, dla której mashup zliczy ilość wyścigów w danym roku, w których kierowca osiągną pierwsze, drugie lub trzecie miejsce.\n",
        "W pierwszym polu wprowadź poprawne imię i nazwisko kierowcy oddzielone spacją Przykłady:\n",
        "* Lewis Hamilton\n",
        "* Robert Kubica\n",
        "\n",
        "W drugim polu wprowadź miejsce na podium, dla którego statystyki mają zostac policzone. Przykłady:\n",
        "\n",
        "* 1\n",
        "* 1,3\n",
        "* 1,2,3"
      ]
    },
    {
      "cell_type": "code",
      "execution_count": 10,
      "metadata": {},
      "outputs": [
        {
          "data": {
            "text/html": [
              "<div>\n",
              "<style scoped>\n",
              "    .dataframe tbody tr th:only-of-type {\n",
              "        vertical-align: middle;\n",
              "    }\n",
              "\n",
              "    .dataframe tbody tr th {\n",
              "        vertical-align: top;\n",
              "    }\n",
              "\n",
              "    .dataframe thead th {\n",
              "        text-align: right;\n",
              "    }\n",
              "</style>\n",
              "<table border=\"1\" class=\"dataframe\">\n",
              "  <thead>\n",
              "    <tr style=\"text-align: right;\">\n",
              "      <th></th>\n",
              "      <th>2nd</th>\n",
              "      <th>1st</th>\n",
              "    </tr>\n",
              "    <tr>\n",
              "      <th>year</th>\n",
              "      <th></th>\n",
              "      <th></th>\n",
              "    </tr>\n",
              "  </thead>\n",
              "  <tbody>\n",
              "    <tr>\n",
              "      <th>2007</th>\n",
              "      <td>5</td>\n",
              "      <td>4</td>\n",
              "    </tr>\n",
              "    <tr>\n",
              "      <th>2008</th>\n",
              "      <td>2</td>\n",
              "      <td>5</td>\n",
              "    </tr>\n",
              "    <tr>\n",
              "      <th>2009</th>\n",
              "      <td>1</td>\n",
              "      <td>2</td>\n",
              "    </tr>\n",
              "    <tr>\n",
              "      <th>2010</th>\n",
              "      <td>5</td>\n",
              "      <td>3</td>\n",
              "    </tr>\n",
              "    <tr>\n",
              "      <th>2011</th>\n",
              "      <td>3</td>\n",
              "      <td>3</td>\n",
              "    </tr>\n",
              "    <tr>\n",
              "      <th>2014</th>\n",
              "      <td>3</td>\n",
              "      <td>11</td>\n",
              "    </tr>\n",
              "    <tr>\n",
              "      <th>2015</th>\n",
              "      <td>6</td>\n",
              "      <td>10</td>\n",
              "    </tr>\n",
              "    <tr>\n",
              "      <th>2016</th>\n",
              "      <td>3</td>\n",
              "      <td>10</td>\n",
              "    </tr>\n",
              "    <tr>\n",
              "      <th>2017</th>\n",
              "      <td>4</td>\n",
              "      <td>9</td>\n",
              "    </tr>\n",
              "    <tr>\n",
              "      <th>2018</th>\n",
              "      <td>3</td>\n",
              "      <td>11</td>\n",
              "    </tr>\n",
              "    <tr>\n",
              "      <th>2019</th>\n",
              "      <td>4</td>\n",
              "      <td>11</td>\n",
              "    </tr>\n",
              "    <tr>\n",
              "      <th>2021</th>\n",
              "      <td>6</td>\n",
              "      <td>5</td>\n",
              "    </tr>\n",
              "  </tbody>\n",
              "</table>\n",
              "</div>"
            ],
            "text/plain": [
              "      2nd  1st\n",
              "year          \n",
              "2007    5    4\n",
              "2008    2    5\n",
              "2009    1    2\n",
              "2010    5    3\n",
              "2011    3    3\n",
              "2014    3   11\n",
              "2015    6   10\n",
              "2016    3   10\n",
              "2017    4    9\n",
              "2018    3   11\n",
              "2019    4   11\n",
              "2021    6    5"
            ]
          },
          "metadata": {},
          "output_type": "display_data"
        }
      ],
      "source": [
        "name_input = input('Wprowadź imię i nazwisko kierowcy (na przykład \"Lewis Hamilton\"): ')\n",
        "place_input = input('Wprwadź miejsca na podium (1 - pierwsze, 2 - drugie, 3 -trzecie, wiele oddziel przecinkiem')\n",
        "place_input = [int(x) for x in place_input.split(',')]\n",
        "\n",
        "driver_df = drivers_df.loc[(drivers_df['forename'] == name_input.split()[0]) & (drivers_df['surname'] == name_input.split()[1])]\n",
        "url = driver_df['url'].values[0]\n",
        "\n",
        "df = getTabularData(url, place_input.pop())\n",
        "for n in place_input:\n",
        "    df = df.merge(getTabularData(url, n), on='year')\n",
        "df.sort_values(by=\"year\", ascending=False)\n",
        "\n",
        "display(df)"
      ]
    }
  ],
  "metadata": {
    "colab": {
      "provenance": [],
      "toc_visible": true
    },
    "kernelspec": {
      "display_name": "Python 3",
      "language": "python",
      "name": "python3"
    },
    "language_info": {
      "codemirror_mode": {
        "name": "ipython",
        "version": 3
      },
      "file_extension": ".py",
      "mimetype": "text/x-python",
      "name": "python",
      "nbconvert_exporter": "python",
      "pygments_lexer": "ipython3",
      "version": "3.10.9 (tags/v3.10.9:1dd9be6, Dec  6 2022, 20:01:21) [MSC v.1934 64 bit (AMD64)]"
    },
    "vscode": {
      "interpreter": {
        "hash": "60ed7443dea2e69c0dce7ace45fabf3c166ac2d44c83c2cdbc308365f9dccd65"
      }
    }
  },
  "nbformat": 4,
  "nbformat_minor": 0
}
